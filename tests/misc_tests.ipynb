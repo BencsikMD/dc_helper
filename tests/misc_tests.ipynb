{
 "cells": [
  {
   "cell_type": "code",
   "execution_count": 1,
   "metadata": {},
   "outputs": [],
   "source": [
    "import json\n",
    "from pprint import pprint\n",
    "\n",
    "from dacite import from_dict\n",
    "\n",
    "from mypackage.dc import dumps, loads\n",
    "from mypackage.definitions import DCOne, DCTwo, ADLSLocation, ADLSOperation"
   ]
  },
  {
   "cell_type": "code",
   "execution_count": 2,
   "metadata": {},
   "outputs": [],
   "source": [
    "# _REGISTERED_DC"
   ]
  },
  {
   "cell_type": "code",
   "execution_count": 3,
   "metadata": {},
   "outputs": [
    {
     "data": {
      "text/plain": [
       "{'one': {'h': 0, 'i': 1},\n",
       " 'two': {'x': 0,\n",
       "  'y': 1,\n",
       "  'location': {'adls_resource_name': 'blob', 'adls_container': 'veritas'}},\n",
       " 'other': {'z': 2, 'w': 'some text'}}"
      ]
     },
     "execution_count": 3,
     "metadata": {},
     "output_type": "execute_result"
    }
   ],
   "source": [
    "config = {\n",
    "    'one': {\n",
    "        'h': 0,\n",
    "        'i': 1\n",
    "    },\n",
    "    'two': {\n",
    "        'x': 0,\n",
    "        'y': 1,\n",
    "        'location': {\n",
    "            'adls_resource_name': 'blob',\n",
    "            'adls_container': 'veritas'\n",
    "        }\n",
    "    },\n",
    "    'other': {\n",
    "        'z': 2,\n",
    "        'w': 'some text'\n",
    "    }\n",
    "}\n",
    "\n",
    "config"
   ]
  },
  {
   "cell_type": "code",
   "execution_count": 4,
   "metadata": {},
   "outputs": [
    {
     "data": {
      "text/plain": [
       "DCOne(location=None, operation=None, h=0, i=1)"
      ]
     },
     "execution_count": 4,
     "metadata": {},
     "output_type": "execute_result"
    }
   ],
   "source": [
    "from_dict(DCOne, config['one'])"
   ]
  },
  {
   "cell_type": "code",
   "execution_count": 5,
   "metadata": {},
   "outputs": [
    {
     "data": {
      "text/plain": [
       "'{\"one\": {\"h\": 0, \"i\": 1}, \"two\": {\"x\": 0, \"y\": 1, \"location\": {\"adls_resource_name\": \"blob\", \"adls_container\": \"veritas\"}}, \"other\": {\"z\": 2, \"w\": \"some text\"}}'"
      ]
     },
     "execution_count": 5,
     "metadata": {},
     "output_type": "execute_result"
    }
   ],
   "source": [
    "config_str = json.dumps(config)\n",
    "config_str"
   ]
  },
  {
   "cell_type": "code",
   "execution_count": 6,
   "metadata": {},
   "outputs": [
    {
     "data": {
      "text/plain": [
       "{'one': DCOne(location=None, operation=None, h=0, i=1),\n",
       " 'two': DCTwo(location=ADLSLocation(adls_resource_name='blob', adls_container='veritas', adls_path=None, adls_file_name=None, encoding='utf-8'), operation=None, x=0, y=1),\n",
       " 'other': {'z': 2, 'w': 'some text'}}"
      ]
     },
     "execution_count": 6,
     "metadata": {},
     "output_type": "execute_result"
    }
   ],
   "source": [
    "config_loaded = loads(config_str)\n",
    "\n",
    "config_loaded"
   ]
  },
  {
   "cell_type": "code",
   "execution_count": 7,
   "metadata": {},
   "outputs": [
    {
     "name": "stdout",
     "output_type": "stream",
     "text": [
      "[('location', None), ('operation', None), ('h', 0), ('i', 1)]\n",
      "[('adls_resource_name', 'blob'), ('adls_container', 'veritas'), ('adls_path', None), ('adls_file_name', None), ('encoding', 'utf-8')]\n",
      "[('location', {'adls_resource_name': 'blob', 'adls_container': 'veritas', 'encoding': 'utf-8'}), ('operation', None), ('x', 0), ('y', 1)]\n",
      "{\n",
      "    \"one\": {\n",
      "        \"h\": 0,\n",
      "        \"i\": 1\n",
      "    },\n",
      "    \"two\": {\n",
      "        \"location\": {\n",
      "            \"adls_resource_name\": \"blob\",\n",
      "            \"adls_container\": \"veritas\",\n",
      "            \"encoding\": \"utf-8\"\n",
      "        },\n",
      "        \"x\": 0,\n",
      "        \"y\": 1\n",
      "    },\n",
      "    \"other\": {\n",
      "        \"z\": 2,\n",
      "        \"w\": \"some text\"\n",
      "    }\n",
      "}\n"
     ]
    }
   ],
   "source": [
    "print(dumps(config_loaded))"
   ]
  }
 ],
 "metadata": {
  "kernelspec": {
   "display_name": ".venv",
   "language": "python",
   "name": "python3"
  },
  "language_info": {
   "codemirror_mode": {
    "name": "ipython",
    "version": 3
   },
   "file_extension": ".py",
   "mimetype": "text/x-python",
   "name": "python",
   "nbconvert_exporter": "python",
   "pygments_lexer": "ipython3",
   "version": "3.13.2"
  }
 },
 "nbformat": 4,
 "nbformat_minor": 2
}
